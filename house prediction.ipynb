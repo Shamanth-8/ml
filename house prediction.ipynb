{
  "nbformat": 4,
  "nbformat_minor": 0,
  "metadata": {
    "colab": {
      "provenance": []
    },
    "kernelspec": {
      "name": "python3",
      "display_name": "Python 3"
    },
    "language_info": {
      "name": "python"
    }
  },
  "cells": [
    {
      "cell_type": "code",
      "source": [
        "import pandas as pd\n",
        "from sklearn.model_selection import train_test_split\n",
        "from sklearn.ensemble import HistGradientBoostingRegressor, HistGradientBoostingClassifier\n",
        "from sklearn.preprocessing import OneHotEncoder\n",
        "from sklearn.compose import ColumnTransformer\n",
        "from sklearn.pipeline import Pipeline\n",
        "from sklearn.metrics import mean_squared_error, r2_score, confusion_matrix, accuracy_score\n",
        "import seaborn as sns\n",
        "import matplotlib.pyplot as plt\n",
        "\n",
        "# -------------------------\n",
        "# 1. Load dataset\n",
        "# -------------------------\n",
        "data = pd.read_csv(\"House_Rent_Dataset.csv\")\n",
        "\n",
        "# -------------------------\n",
        "# 2. Feature Selection\n",
        "# -------------------------\n",
        "features = [\"BHK\", \"Size\", \"Bathroom\", \"City\", \"Furnishing Status\", \"Area Type\"]\n",
        "X = data[features]\n",
        "y = data[\"Rent\"]\n",
        "\n",
        "# -------------------------\n",
        "# 3. Train/Test Split\n",
        "# -------------------------\n",
        "X_train, X_test, y_train, y_test = train_test_split(\n",
        "    X, y, test_size=0.2, random_state=42\n",
        ")\n",
        "\n",
        "# -------------------------\n",
        "# 4. Preprocessing (OneHotEncode categorical features)\n",
        "# -------------------------\n",
        "categorical = [\"City\", \"Furnishing Status\", \"Area Type\"]\n",
        "numeric = [\"BHK\", \"Size\", \"Bathroom\"]\n",
        "\n",
        "preprocessor = ColumnTransformer(\n",
        "    transformers=[\n",
        "        (\"cat\", OneHotEncoder(handle_unknown=\"ignore\"), categorical),\n",
        "        (\"num\", \"passthrough\", numeric)\n",
        "    ]\n",
        ")\n",
        "\n",
        "# -------------------------\n",
        "# 5. Regression Model (Lightweight & Accurate)\n",
        "# -------------------------\n",
        "regressor = Pipeline(steps=[\n",
        "    (\"preprocessor\", preprocessor),\n",
        "    (\"model\", HistGradientBoostingRegressor(max_depth=10, learning_rate=0.1, random_state=42))\n",
        "])\n",
        "\n",
        "regressor.fit(X_train, y_train)\n",
        "y_pred = regressor.predict(X_test)\n",
        "\n",
        "# -------------------------\n",
        "# 6. Regression Metrics\n",
        "# -------------------------\n",
        "print(\"Regression Results\")\n",
        "print(\"RMSE:\", mean_squared_error(y_test, y_pred))\n",
        "print(\"R² Score:\", r2_score(y_test, y_pred))\n",
        "\n",
        "# -------------------------\n",
        "# 7. Classification (High/Low Rent)\n",
        "# -------------------------\n",
        "threshold = data[\"Rent\"].median()\n",
        "y_test_class = [\"High\" if val > threshold else \"Low\" for val in y_test]\n",
        "y_pred_class = [\"High\" if val > threshold else \"Low\" for val in y_pred]\n",
        "\n",
        "# Use classifier for accuracy check\n",
        "classifier = Pipeline(steps=[\n",
        "    (\"preprocessor\", preprocessor),\n",
        "    (\"model\", HistGradientBoostingClassifier(max_depth=10, learning_rate=0.1, random_state=42))\n",
        "])\n",
        "\n",
        "classifier.fit(X_train, [\"High\" if val > threshold else \"Low\" for val in y_train])\n",
        "y_pred_class2 = classifier.predict(X_test)\n",
        "\n",
        "print(\"\\nClassification Results\")\n",
        "print(\"Accuracy:\", accuracy_score(y_test_class, y_pred_class2))\n",
        "\n",
        "cm = confusion_matrix(y_test_class, y_pred_class2, labels=[\"Low\",\"High\"])\n",
        "sns.heatmap(cm, annot=True, fmt=\"d\", cmap=\"Blues\",\n",
        "            xticklabels=[\"Low\",\"High\"], yticklabels=[\"Low\",\"High\"])\n",
        "plt.xlabel(\"Predicted\")\n",
        "plt.ylabel(\"Actual\")\n",
        "plt.title(\"Confusion Matrix\")\n",
        "plt.show()\n",
        "\n",
        "# -------------------------\n",
        "# 8. User Input for Prediction\n",
        "# -------------------------\n",
        "print(\"\\n--- Enter Details for Rent Prediction ---\")\n",
        "bhk = int(input(\"Enter BHK : example - 2 \"))\n",
        "size = int(input(\"Enter Size in sqft :example - 2400 \"))\n",
        "bathroom = int(input(\"Enter number of Bathrooms : example - 2 \"))\n",
        "city = input(\"Enter City  : example - Mumbai\")\n",
        "furnishing = input(\"Enter Furnishing Status : example - Furnished/Semi-Furnished/Unfurnished \")\n",
        "area_type = input(\"Enter Area Type :example - (Super Area/Carpet Area/Built Area) \")\n",
        "\n",
        "sample = pd.DataFrame([[bhk, size, bathroom, city, furnishing, area_type]], columns=features)\n",
        "\n",
        "predicted_price = regressor.predict(sample)\n",
        "print(f\"\\nPredicted Rent for {size} sqft in {city}: {predicted_price[0]:.2f}\")"
      ],
      "metadata": {
        "colab": {
          "base_uri": "https://localhost:8080/",
          "height": 750
        },
        "id": "meu1YtJ43YCh",
        "outputId": "7633a899-496b-4f39-de44-08c5d594fc7f"
      },
      "execution_count": 10,
      "outputs": [
        {
          "output_type": "stream",
          "name": "stdout",
          "text": [
            "Regression Results\n",
            "RMSE: 1481737851.4823227\n",
            "R² Score: 0.6282067552488775\n",
            "\n",
            "Classification Results\n",
            "Accuracy: 0.8526315789473684\n"
          ]
        },
        {
          "output_type": "display_data",
          "data": {
            "text/plain": [
              "<Figure size 640x480 with 2 Axes>"
            ],
            "image/png": "[encoded data removed]"
          },
          "metadata": {}
        },
        {
          "output_type": "stream",
          "name": "stdout",
          "text": [
            "\n",
            "--- Enter Details for Rent Prediction ---\n",
            "Enter BHK : example - 2 2\n",
            "Enter Size in sqft :example - 2400 2400\n",
            "Enter number of Bathrooms : example - 2 2\n",
            "Enter City  : example - MumbaiMumbai\n",
            "Enter Furnishing Status : example - Furnished/Semi-Furnished/Unfurnished Semi-furnished\n",
            "Enter Area Type :example - (Super Area/Carpet Area/Built Area) Super Area\n",
            "\n",
            "Predicted Rent for 2400 sqft in Mumbai: 156226.37\n"
          ]
        }
      ]
    }
  ]
}